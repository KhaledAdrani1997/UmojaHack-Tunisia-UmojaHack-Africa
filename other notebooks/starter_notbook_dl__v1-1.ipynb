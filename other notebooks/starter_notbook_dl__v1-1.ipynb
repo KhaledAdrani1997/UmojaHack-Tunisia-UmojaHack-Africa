{
  "nbformat": 4,
  "nbformat_minor": 0,
  "metadata": {
    "kernelspec": {
      "display_name": "Python 3",
      "language": "python",
      "name": "python3"
    },
    "language_info": {
      "codemirror_mode": {
        "name": "ipython",
        "version": 3
      },
      "file_extension": ".py",
      "mimetype": "text/x-python",
      "name": "python",
      "nbconvert_exporter": "python",
      "pygments_lexer": "ipython3",
      "version": "3.7.3"
    },
    "colab": {
      "name": "starter_notbook_dl__v1.ipynb",
      "provenance": [],
      "collapsed_sections": []
    },
    "accelerator": "GPU"
  },
  "cells": [
    {
      "cell_type": "code",
      "metadata": {
        "id": "lw9CCl7PzXnb"
      },
      "source": [
        "import pandas as  pd \n",
        "import numpy as np \n",
        "import tensorflow as tf\n",
        "import tensorflow_datasets as tfds\n",
        "import os \n",
        "from sklearn.model_selection import train_test_split\n",
        "import zipfile"
      ],
      "execution_count": 3,
      "outputs": []
    },
    {
      "cell_type": "code",
      "metadata": {
        "id": "323y5Oqjz745"
      },
      "source": [
        "import matplotlib.pyplot as plt\n"
      ],
      "execution_count": 63,
      "outputs": []
    },
    {
      "cell_type": "code",
      "metadata": {
        "id": "2ynJHnnFRUNS"
      },
      "source": [
        "os.environ[\"CUDA_VISIBLE_DEVICES\"] = \"0\" # change it to \"0\" if yo have only one gpu or the gpu numbe  that you would like to use "
      ],
      "execution_count": 23,
      "outputs": []
    },
    {
      "cell_type": "markdown",
      "metadata": {
        "id": "WKExHydezXng"
      },
      "source": [
        "### Data processing"
      ]
    },
    {
      "cell_type": "code",
      "metadata": {
        "id": "H5Xfu0nhKK0L",
        "outputId": "3289e27a-7c0c-40e9-ea70-1f58e68087c0",
        "colab": {
          "base_uri": "https://localhost:8080/",
          "height": 35
        }
      },
      "source": [
        "from google.colab import drive\n",
        "drive.mount('/content/drive')"
      ],
      "execution_count": 2,
      "outputs": [
        {
          "output_type": "stream",
          "text": [
            "Mounted at /content/drive\n"
          ],
          "name": "stdout"
        }
      ]
    },
    {
      "cell_type": "code",
      "metadata": {
        "id": "umeCAlmDKRP_"
      },
      "source": [
        "#Extracting the data from the zip file\n",
        "local_zip = '/content/drive/My Drive/Zindi/UmojaHackTunisia.zip'\n",
        "password = 'kwpcb'\n",
        "zip_ref = zipfile.ZipFile(local_zip, 'r')\n",
        "zip_ref.extractall('/content/',pwd=bytes(password,'utf-8'))\n",
        "zip_ref.close()"
      ],
      "execution_count": 5,
      "outputs": []
    },
    {
      "cell_type": "code",
      "metadata": {
        "id": "RgsswiF6zXng"
      },
      "source": [
        "def write_to_txt(file_name,column):\n",
        "    with open(file_name, 'w') as f:\n",
        "        for item in column:\n",
        "            f.write(\"%s\\n\" % item)"
      ],
      "execution_count": 6,
      "outputs": []
    },
    {
      "cell_type": "code",
      "metadata": {
        "id": "uZGqaMklzXnk"
      },
      "source": [
        "train=pd.read_csv(\"/content/UmojaHackTun/train.csv\")\n",
        "test=pd.read_csv(\"/content/UmojaHackTun/test.csv\")"
      ],
      "execution_count": 19,
      "outputs": []
    },
    {
      "cell_type": "code",
      "metadata": {
        "id": "MJpK_zELzXnm",
        "outputId": "5f8d1582-1c08-46e2-f2e0-4dbdcd0e3fed",
        "colab": {
          "base_uri": "https://localhost:8080/",
          "height": 202
        }
      },
      "source": [
        "train.head()"
      ],
      "execution_count": 8,
      "outputs": [
        {
          "output_type": "execute_result",
          "data": {
            "text/html": [
              "<div>\n",
              "<style scoped>\n",
              "    .dataframe tbody tr th:only-of-type {\n",
              "        vertical-align: middle;\n",
              "    }\n",
              "\n",
              "    .dataframe tbody tr th {\n",
              "        vertical-align: top;\n",
              "    }\n",
              "\n",
              "    .dataframe thead th {\n",
              "        text-align: right;\n",
              "    }\n",
              "</style>\n",
              "<table border=\"1\" class=\"dataframe\">\n",
              "  <thead>\n",
              "    <tr style=\"text-align: right;\">\n",
              "      <th></th>\n",
              "      <th>ID</th>\n",
              "      <th>Sequence</th>\n",
              "      <th>target</th>\n",
              "    </tr>\n",
              "  </thead>\n",
              "  <tbody>\n",
              "    <tr>\n",
              "      <th>0</th>\n",
              "      <td>ID_train_0</td>\n",
              "      <td>MVDGVMILPVLVMIAFPFPSMEDEKPKVNPKLYMCVCEGLSCGDEA...</td>\n",
              "      <td>0</td>\n",
              "    </tr>\n",
              "    <tr>\n",
              "      <th>1</th>\n",
              "      <td>ID_train_1</td>\n",
              "      <td>MAQKENAYPWPYGSKTSQSGLNTLSQRVLRKEPATTSALALVNRFN...</td>\n",
              "      <td>1</td>\n",
              "    </tr>\n",
              "    <tr>\n",
              "      <th>2</th>\n",
              "      <td>ID_train_2</td>\n",
              "      <td>MRLWPRSLFGRLVLILVSGMLAAQILTSSIWYDVRHSQVLEIPTRL...</td>\n",
              "      <td>2</td>\n",
              "    </tr>\n",
              "    <tr>\n",
              "      <th>3</th>\n",
              "      <td>ID_train_3</td>\n",
              "      <td>MNSIVKIMKMKQITYKLFMTTSLILLSFAVLIYLTLYFFLPTFYEQ...</td>\n",
              "      <td>2</td>\n",
              "    </tr>\n",
              "    <tr>\n",
              "      <th>4</th>\n",
              "      <td>ID_train_4</td>\n",
              "      <td>MKLIYQNVLSFLLIIVTTISIIGYSEIGYARNQAYTQNYQRMESYA...</td>\n",
              "      <td>2</td>\n",
              "    </tr>\n",
              "  </tbody>\n",
              "</table>\n",
              "</div>"
            ],
            "text/plain": [
              "           ID                                           Sequence  target\n",
              "0  ID_train_0  MVDGVMILPVLVMIAFPFPSMEDEKPKVNPKLYMCVCEGLSCGDEA...       0\n",
              "1  ID_train_1  MAQKENAYPWPYGSKTSQSGLNTLSQRVLRKEPATTSALALVNRFN...       1\n",
              "2  ID_train_2  MRLWPRSLFGRLVLILVSGMLAAQILTSSIWYDVRHSQVLEIPTRL...       2\n",
              "3  ID_train_3  MNSIVKIMKMKQITYKLFMTTSLILLSFAVLIYLTLYFFLPTFYEQ...       2\n",
              "4  ID_train_4  MKLIYQNVLSFLLIIVTTISIIGYSEIGYARNQAYTQNYQRMESYA...       2"
            ]
          },
          "metadata": {
            "tags": []
          },
          "execution_count": 8
        }
      ]
    },
    {
      "cell_type": "code",
      "metadata": {
        "id": "z7nSPpdfzXnp"
      },
      "source": [
        "max_seq_length=550# max seq length in this data set is 550 "
      ],
      "execution_count": 1,
      "outputs": []
    },
    {
      "cell_type": "code",
      "metadata": {
        "id": "4FGprZnzzXns",
        "outputId": "a97a108c-40b5-4172-a6ff-4c3a98231606",
        "colab": {
          "base_uri": "https://localhost:8080/",
          "height": 235
        }
      },
      "source": [
        "# split data to train and validation \n",
        "train,val=train_test_split(train,test_size=0.1,random_state=42)\n",
        "\n",
        "#reduce seq length\n",
        "if max_seq_length>550 : \n",
        "    train[\"Sequence\"]=train[\"Sequence\"].apply(lambda x: \"\".join(list(x)[0:max_seq_length]))\n",
        "    val[\"Sequence\"]=val[\"Sequence\"].apply(lambda x: \"\".join(list(x)[0:max_seq_length]))\n",
        "    test[\"Sequence\"]=test[\"Sequence\"].apply(lambda x: \"\".join(list(x)[0:max_seq_length]))"
      ],
      "execution_count": 2,
      "outputs": [
        {
          "output_type": "error",
          "ename": "NameError",
          "evalue": "ignored",
          "traceback": [
            "\u001b[0;31m---------------------------------------------------------------------------\u001b[0m",
            "\u001b[0;31mNameError\u001b[0m                                 Traceback (most recent call last)",
            "\u001b[0;32m<ipython-input-2-af0da57e45a9>\u001b[0m in \u001b[0;36m<module>\u001b[0;34m()\u001b[0m\n\u001b[1;32m      1\u001b[0m \u001b[0;31m# split data to train and validation\u001b[0m\u001b[0;34m\u001b[0m\u001b[0;34m\u001b[0m\u001b[0;34m\u001b[0m\u001b[0m\n\u001b[0;32m----> 2\u001b[0;31m \u001b[0mtrain\u001b[0m\u001b[0;34m,\u001b[0m\u001b[0mval\u001b[0m\u001b[0;34m=\u001b[0m\u001b[0mtrain_test_split\u001b[0m\u001b[0;34m(\u001b[0m\u001b[0mtrain\u001b[0m\u001b[0;34m,\u001b[0m\u001b[0mtest_size\u001b[0m\u001b[0;34m=\u001b[0m\u001b[0;36m0.1\u001b[0m\u001b[0;34m,\u001b[0m\u001b[0mrandom_state\u001b[0m\u001b[0;34m=\u001b[0m\u001b[0;36m42\u001b[0m\u001b[0;34m)\u001b[0m\u001b[0;34m\u001b[0m\u001b[0;34m\u001b[0m\u001b[0m\n\u001b[0m\u001b[1;32m      3\u001b[0m \u001b[0;34m\u001b[0m\u001b[0m\n\u001b[1;32m      4\u001b[0m \u001b[0;31m#reduce seq length\u001b[0m\u001b[0;34m\u001b[0m\u001b[0;34m\u001b[0m\u001b[0;34m\u001b[0m\u001b[0m\n\u001b[1;32m      5\u001b[0m \u001b[0;32mif\u001b[0m \u001b[0mmax_seq_length\u001b[0m\u001b[0;34m>\u001b[0m\u001b[0;36m550\u001b[0m \u001b[0;34m:\u001b[0m\u001b[0;34m\u001b[0m\u001b[0;34m\u001b[0m\u001b[0m\n",
            "\u001b[0;31mNameError\u001b[0m: name 'train_test_split' is not defined"
          ]
        }
      ]
    },
    {
      "cell_type": "code",
      "metadata": {
        "id": "L1i8oYayzXnx"
      },
      "source": [
        "# # write Sequnce column to txt file \n",
        "write_to_txt(\"/content/train.txt\",train.Sequence)\n",
        "write_to_txt(\"/content/test.txt\",test.Sequence)\n",
        "write_to_txt(\"/content/val.txt\",val.Sequence)"
      ],
      "execution_count": 11,
      "outputs": []
    },
    {
      "cell_type": "code",
      "metadata": {
        "id": "E72TFnEqzXn0"
      },
      "source": [
        "train_label=train[[\"target\"]].copy()\n",
        "val_label=val[[\"target\"]].copy()\n",
        "train_label.to_csv(\"/content/train_label.csv\",index=False)\n",
        "val_label.to_csv(\"/content/val_label.csv\",index=False)"
      ],
      "execution_count": 12,
      "outputs": []
    },
    {
      "cell_type": "markdown",
      "metadata": {
        "id": "RNfxr_ppzXn3"
      },
      "source": [
        "### Data loaders "
      ]
    },
    {
      "cell_type": "code",
      "metadata": {
        "id": "rWWGWNNSzXn3"
      },
      "source": [
        "train_label=pd.read_csv(\"/content/train_label.csv\")\n",
        "val_label=pd.read_csv(\"/content/val_label.csv\")"
      ],
      "execution_count": 4,
      "outputs": []
    },
    {
      "cell_type": "code",
      "metadata": {
        "id": "72Rq52_OzXn6"
      },
      "source": [
        "train_batch_size=512\n",
        "val_batch_size=512\n",
        "number_of_class=train_label.target.nunique()\n",
        "train_steps = len(train_label) // train_batch_size + int(len(train_label) % train_batch_size > 0)\n",
        "val_steps = len(val_label) // val_batch_size + int(len(val_label) % val_batch_size > 0)"
      ],
      "execution_count": 5,
      "outputs": []
    },
    {
      "cell_type": "code",
      "metadata": {
        "id": "Aiy9QhYSzXn9"
      },
      "source": [
        "voc_set=set(['P', 'V', 'I', 'K', 'N', 'B', 'F', 'Y', 'E', 'W', 'R', 'D', 'X', 'S', 'C', 'U', 'Q', 'A', 'M', 'H', 'L', 'G', 'T'])\n",
        "voc_set_map={ k:v for k , v in zip(voc_set,range(1,len(voc_set)+1))}"
      ],
      "execution_count": 6,
      "outputs": []
    },
    {
      "cell_type": "code",
      "metadata": {
        "id": "j1JNLXYOL8nb",
        "outputId": "36b1cbb3-10c9-4ef3-ada2-4c9d83542880",
        "colab": {
          "base_uri": "https://localhost:8080/",
          "height": 35
        }
      },
      "source": [
        "20*20*20"
      ],
      "execution_count": 7,
      "outputs": [
        {
          "output_type": "execute_result",
          "data": {
            "text/plain": [
              "8000"
            ]
          },
          "metadata": {
            "tags": []
          },
          "execution_count": 7
        }
      ]
    },
    {
      "cell_type": "code",
      "metadata": {
        "id": "S9EdtQ_OzXoC"
      },
      "source": [
        "def encode(text_tensor, label):\n",
        "    encoded_text = [ voc_set_map[e] for e in list(text_tensor.numpy().decode())]\n",
        "    return encoded_text, label\n",
        "def encode_map_fn(text, label):\n",
        "    # py_func doesn't set the shape of the returned tensors.\n",
        "    encoded_text, label = tf.py_function(encode, \n",
        "                                       inp=[text, label], \n",
        "                                       Tout=(tf.int64, tf.int64))\n",
        "    encoded_text.set_shape([None])\n",
        "    label=tf.one_hot(label,number_of_class)\n",
        "    label.set_shape([number_of_class])\n",
        "    \n",
        "    return encoded_text, label\n",
        "def get_data_loader(file,batch_size,labels):\n",
        "    \n",
        "    label_data=tf.data.Dataset.from_tensor_slices(labels.target)\n",
        "    data_set=tf.data.TextLineDataset(file)\n",
        "    data_set=tf.data.Dataset.zip((data_set,label_data))\n",
        "\n",
        "    data_set=data_set.repeat()\n",
        "    data_set = data_set.shuffle(len(labels))\n",
        "    data_set=data_set.map(encode_map_fn,tf.data.experimental.AUTOTUNE)\n",
        "    data_set=data_set.padded_batch(batch_size)\n",
        "    data_set = data_set.prefetch(buffer_size=tf.data.experimental.AUTOTUNE)\n",
        "    return data_set\n",
        "\n",
        "\n",
        "def get_data_loader_test(file,batch_size,labels):\n",
        "    \n",
        "    label_data=tf.data.Dataset.from_tensor_slices(labels.target)\n",
        "    data_set=tf.data.TextLineDataset(file)\n",
        "    data_set=tf.data.Dataset.zip((data_set,label_data))\n",
        "    data_set=data_set.map(encode_map_fn,tf.data.experimental.AUTOTUNE)\n",
        "    data_set=data_set.padded_batch(batch_size)\n",
        "    data_set = data_set.prefetch(buffer_size=tf.data.experimental.AUTOTUNE)\n",
        "    return data_set"
      ],
      "execution_count": 8,
      "outputs": []
    },
    {
      "cell_type": "code",
      "metadata": {
        "id": "JpMSaj6NzXoG"
      },
      "source": [
        "train_dl=get_data_loader(\"/content/train.txt\",train_batch_size,train_label)\n",
        "val_dl=get_data_loader(\"/content/val.txt\",train_batch_size,val_label)"
      ],
      "execution_count": 9,
      "outputs": []
    },
    {
      "cell_type": "code",
      "metadata": {
        "id": "zDcnwTDpeWvT",
        "outputId": "2d42fd91-b9f5-4014-e798-23509c04bd52",
        "colab": {
          "base_uri": "https://localhost:8080/",
          "height": 35
        }
      },
      "source": [
        "train_dl"
      ],
      "execution_count": 44,
      "outputs": [
        {
          "output_type": "execute_result",
          "data": {
            "text/plain": [
              "<PrefetchDataset shapes: ((None, None), (None, 8)), types: (tf.int64, tf.float32)>"
            ]
          },
          "metadata": {
            "tags": []
          },
          "execution_count": 44
        }
      ]
    },
    {
      "cell_type": "markdown",
      "metadata": {
        "id": "FNoAW6l3zXoK"
      },
      "source": [
        "### Model "
      ]
    },
    {
      "cell_type": "code",
      "metadata": {
        "id": "u7NtHVT1zXoL"
      },
      "source": [
        "from tensorflow.keras.layers import Input,Dense,Dropout,Embedding,Concatenate,Flatten,LSTM ,Bidirectional, Conv1D\n",
        "from tensorflow.keras.activations import relu ,sigmoid,softmax\n",
        "from tensorflow.keras.losses import CategoricalCrossentropy\n",
        "def model():\n",
        "    name=\"seq\"\n",
        "    dropout_rate=0.2\n",
        "    learning_rate=0.001\n",
        "    sequnce=Input([None],name=\"sequnce\")\n",
        "\n",
        "    Conv_layer = Conv1D(32, 3, activation='relu')\n",
        "    \n",
        "    EMB_layer=Embedding(input_dim=len(voc_set)+1,output_dim=128,name=\"emb_layer\")\n",
        "    \n",
        "\n",
        "    LSTM_layer_2=LSTM(units=256,name=\"lstm_2\",return_sequences=False)\n",
        "    BIDIR_layer_2=Bidirectional(LSTM_layer_2,name=\"bidirectional_2\")\n",
        "    \n",
        "    Dens_layer_1=Dense(units=512,activation=relu,kernel_regularizer=None,bias_regularizer=None,name=name+\"_dense_layer_1\")\n",
        "    Dens_layer_2=Dense(units=256,activation=relu,kernel_regularizer=None,bias_regularizer=None,name=name+\"_dense_layer_2\")\n",
        "    \n",
        "    output=Dense(units=number_of_class,activation=softmax,kernel_regularizer=None,bias_regularizer=None,name=name+\"_dense_layer_output\")\n",
        "    \n",
        "    dropout_1=Dropout(dropout_rate)\n",
        "    \n",
        "    \n",
        "    emb_layer=EMB_layer(sequnce)\n",
        "    conv_layer = Conv_layer(emb_layer)\n",
        "    logits=output(Dens_layer_2(dropout_1(Dens_layer_1(BIDIR_layer_2(conv_layer)))))\n",
        "\n",
        "    \n",
        "    model=tf.keras.Model(inputs={\"sequnce\":sequnce, },outputs=logits) \n",
        "    optimizer = tf.keras.optimizers.Nadam(learning_rate=learning_rate)\n",
        "    model.compile(optimizer=optimizer,\n",
        "                  loss=CategoricalCrossentropy(),\n",
        "                  metrics=[tf.keras.metrics.CategoricalAccuracy(name=\"Acc\")]) \n",
        "    model.summary()\n",
        "    return model \n",
        "    "
      ],
      "execution_count": 56,
      "outputs": []
    },
    {
      "cell_type": "code",
      "metadata": {
        "id": "4OGRe1wlzXoO",
        "outputId": "453d9944-740b-4874-c3d9-29e2f077c753",
        "colab": {
          "base_uri": "https://localhost:8080/",
          "height": 428
        }
      },
      "source": [
        "model=model()"
      ],
      "execution_count": 57,
      "outputs": [
        {
          "output_type": "stream",
          "text": [
            "Model: \"functional_7\"\n",
            "_________________________________________________________________\n",
            "Layer (type)                 Output Shape              Param #   \n",
            "=================================================================\n",
            "sequnce (InputLayer)         [(None, None)]            0         \n",
            "_________________________________________________________________\n",
            "emb_layer (Embedding)        (None, None, 128)         3072      \n",
            "_________________________________________________________________\n",
            "conv1d_14 (Conv1D)           (None, None, 32)          12320     \n",
            "_________________________________________________________________\n",
            "bidirectional_2 (Bidirection (None, 512)               591872    \n",
            "_________________________________________________________________\n",
            "seq_dense_layer_1 (Dense)    (None, 512)               262656    \n",
            "_________________________________________________________________\n",
            "dropout_16 (Dropout)         (None, 512)               0         \n",
            "_________________________________________________________________\n",
            "seq_dense_layer_2 (Dense)    (None, 256)               131328    \n",
            "_________________________________________________________________\n",
            "seq_dense_layer_output (Dens (None, 8)                 2056      \n",
            "=================================================================\n",
            "Total params: 1,003,304\n",
            "Trainable params: 1,003,304\n",
            "Non-trainable params: 0\n",
            "_________________________________________________________________\n"
          ],
          "name": "stdout"
        }
      ]
    },
    {
      "cell_type": "code",
      "metadata": {
        "id": "0_7_fXJ_zXoT"
      },
      "source": [
        "# you can add eraly stoping method as callback and save best  model to improve your score \n",
        "from keras.callbacks import EarlyStopping\n",
        "#Defining Early Stopping to see model performance\n",
        "earlyStopping = EarlyStopping(monitor='val_loss', patience=3, verbose=1, mode='min',restore_best_weights=True)"
      ],
      "execution_count": 60,
      "outputs": []
    },
    {
      "cell_type": "code",
      "metadata": {
        "jupyter": {
          "outputs_hidden": true
        },
        "id": "hNpNNqoczXoV",
        "outputId": "4bee2671-87eb-4a78-f845-a07954167e02",
        "colab": {
          "base_uri": "https://localhost:8080/",
          "height": 360
        }
      },
      "source": [
        "history = model.fit(train_dl,\n",
        "                    validation_data=val_dl,\n",
        "                    epochs=10,\n",
        "                    verbose=1,\n",
        "                    validation_steps=val_steps,\n",
        "                    steps_per_epoch=train_steps,\n",
        "                     callbacks = [earlyStopping]\n",
        "                   )"
      ],
      "execution_count": 61,
      "outputs": [
        {
          "output_type": "stream",
          "text": [
            "Epoch 1/10\n",
            "800/800 [==============================] - 447s 559ms/step - loss: 0.5548 - Acc: 0.8053 - val_loss: 0.4324 - val_Acc: 0.8559\n",
            "Epoch 2/10\n",
            "800/800 [==============================] - 452s 564ms/step - loss: 0.3668 - Acc: 0.8746 - val_loss: 0.4243 - val_Acc: 0.8548\n",
            "Epoch 3/10\n",
            "800/800 [==============================] - 453s 567ms/step - loss: 0.2314 - Acc: 0.9219 - val_loss: 0.1475 - val_Acc: 0.9516\n",
            "Epoch 4/10\n",
            "800/800 [==============================] - 453s 566ms/step - loss: 0.1384 - Acc: 0.9548 - val_loss: 0.0813 - val_Acc: 0.9734\n",
            "Epoch 5/10\n",
            "800/800 [==============================] - 454s 567ms/step - loss: 0.1869 - Acc: 0.9393 - val_loss: 0.0798 - val_Acc: 0.9747\n",
            "Epoch 6/10\n",
            "800/800 [==============================] - 455s 569ms/step - loss: 0.1049 - Acc: 0.9663 - val_loss: 0.0564 - val_Acc: 0.9817\n",
            "Epoch 7/10\n",
            "800/800 [==============================] - 455s 569ms/step - loss: 0.0542 - Acc: 0.9828 - val_loss: 0.0408 - val_Acc: 0.9866\n",
            "Epoch 8/10\n",
            "800/800 [==============================] - 454s 568ms/step - loss: 0.0349 - Acc: 0.9891 - val_loss: 0.0315 - val_Acc: 0.9902\n",
            "Epoch 9/10\n",
            "800/800 [==============================] - 454s 568ms/step - loss: 0.0290 - Acc: 0.9911 - val_loss: 0.0294 - val_Acc: 0.9909\n",
            "Epoch 10/10\n",
            "800/800 [==============================] - 454s 567ms/step - loss: 0.0259 - Acc: 0.9921 - val_loss: 0.0266 - val_Acc: 0.9919\n"
          ],
          "name": "stdout"
        }
      ]
    },
    {
      "cell_type": "code",
      "metadata": {
        "id": "i9RGkteTz3u8",
        "outputId": "45ad0105-b274-4e93-b7ee-ee0d650e4cc5",
        "colab": {
          "base_uri": "https://localhost:8080/",
          "height": 590
        }
      },
      "source": [
        "print(history.history.keys())\n",
        "#  \"Accuracy\"\n",
        "plt.plot(history.history['Acc'])\n",
        "plt.plot(history.history['val_Acc'])\n",
        "plt.title('model accuracy')\n",
        "plt.ylabel('accuracy')\n",
        "plt.xlabel('epoch')\n",
        "plt.legend(['train', 'validation'], loc='upper left')\n",
        "plt.show()\n",
        "# \"Loss\"\n",
        "plt.plot(history.history['loss'])\n",
        "plt.plot(history.history['val_loss'])\n",
        "plt.title('model loss')\n",
        "plt.ylabel('loss')\n",
        "plt.xlabel('epoch')\n",
        "plt.legend(['train', 'validation'], loc='upper left')\n",
        "plt.show()"
      ],
      "execution_count": 65,
      "outputs": [
        {
          "output_type": "stream",
          "text": [
            "dict_keys(['loss', 'Acc', 'val_loss', 'val_Acc'])\n"
          ],
          "name": "stdout"
        },
        {
          "output_type": "display_data",
          "data": {
            "image/png": "[encoded data removed]",
            "text/plain": [
              "<Figure size 432x288 with 1 Axes>"
            ]
          },
          "metadata": {
            "tags": [],
            "needs_background": "light"
          }
        },
        {
          "output_type": "display_data",
          "data": {
            "image/png": "[encoded data removed]",
            "text/plain": [
              "<Figure size 432x288 with 1 Axes>"
            ]
          },
          "metadata": {
            "tags": [],
            "needs_background": "light"
          }
        }
      ]
    },
    {
      "cell_type": "code",
      "metadata": {
        "id": "r3v3I4FG1v-8"
      },
      "source": [
        "def model2():\n",
        "    name=\"seq\"\n",
        "    dropout_rate=0.2\n",
        "    learning_rate=0.001\n",
        "    sequnce=Input([None],name=\"sequnce\")\n",
        "\n",
        "    Conv_layer = Conv1D(128, 3, activation='relu')\n",
        "    \n",
        "    EMB_layer=Embedding(input_dim=len(voc_set)+1,output_dim=256,name=\"emb_layer\")\n",
        "    \n",
        "\n",
        "    LSTM_layer_2=LSTM(units=256,name=\"lstm_2\",return_sequences=False)\n",
        "    BIDIR_layer_2=Bidirectional(LSTM_layer_2,name=\"bidirectional_2\")\n",
        "    \n",
        "    Dens_layer_1=Dense(units=1024,activation=relu,kernel_regularizer=None,bias_regularizer=None,name=name+\"_dense_layer_1\")\n",
        "    Dens_layer_2=Dense(units=512,activation=relu,kernel_regularizer=None,bias_regularizer=None,name=name+\"_dense_layer_2\")\n",
        "    \n",
        "    output=Dense(units=number_of_class,activation=softmax,kernel_regularizer=None,bias_regularizer=None,name=name+\"_dense_layer_output\")\n",
        "    \n",
        "    dropout_1=Dropout(dropout_rate)\n",
        "    \n",
        "    \n",
        "    emb_layer=EMB_layer(sequnce)\n",
        "    conv_layer = Conv_layer(emb_layer)\n",
        "    logits=output(Dens_layer_2(dropout_1(Dens_layer_1(BIDIR_layer_2(conv_layer)))))\n",
        "\n",
        "    \n",
        "    model=tf.keras.Model(inputs={\"sequnce\":sequnce, },outputs=logits) \n",
        "    optimizer = tf.keras.optimizers.Nadam(learning_rate=learning_rate)\n",
        "    model.compile(optimizer=optimizer,\n",
        "                  loss=CategoricalCrossentropy(),\n",
        "                  metrics=[tf.keras.metrics.CategoricalAccuracy(name=\"Acc\")]) \n",
        "    model.summary()\n",
        "    return model \n",
        "    "
      ],
      "execution_count": 76,
      "outputs": []
    },
    {
      "cell_type": "code",
      "metadata": {
        "id": "ewHPhANX2Hoc",
        "outputId": "a5f654c3-b198-4fa6-d2bc-721fcef36a70",
        "colab": {
          "base_uri": "https://localhost:8080/",
          "height": 428
        }
      },
      "source": [
        "NewModel = model2()"
      ],
      "execution_count": 75,
      "outputs": [
        {
          "output_type": "stream",
          "text": [
            "Model: \"functional_9\"\n",
            "_________________________________________________________________\n",
            "Layer (type)                 Output Shape              Param #   \n",
            "=================================================================\n",
            "sequnce (InputLayer)         [(None, None)]            0         \n",
            "_________________________________________________________________\n",
            "emb_layer (Embedding)        (None, None, 256)         6144      \n",
            "_________________________________________________________________\n",
            "conv1d_15 (Conv1D)           (None, None, 128)         98432     \n",
            "_________________________________________________________________\n",
            "bidirectional_2 (Bidirection (None, 512)               788480    \n",
            "_________________________________________________________________\n",
            "seq_dense_layer_1 (Dense)    (None, 1024)              525312    \n",
            "_________________________________________________________________\n",
            "dropout_17 (Dropout)         (None, 1024)              0         \n",
            "_________________________________________________________________\n",
            "seq_dense_layer_2 (Dense)    (None, 512)               524800    \n",
            "_________________________________________________________________\n",
            "seq_dense_layer_output (Dens (None, 8)                 4104      \n",
            "=================================================================\n",
            "Total params: 1,947,272\n",
            "Trainable params: 1,947,272\n",
            "Non-trainable params: 0\n",
            "_________________________________________________________________\n"
          ],
          "name": "stdout"
        }
      ]
    },
    {
      "cell_type": "code",
      "metadata": {
        "id": "XxizDhxI2O9m",
        "outputId": "1a6a3935-65b5-47f3-daa4-a2e928667048",
        "colab": {
          "base_uri": "https://localhost:8080/",
          "height": 86
        }
      },
      "source": [
        "history2 = NewModel.fit(train_dl,\n",
        "                    validation_data=val_dl,\n",
        "                    epochs=10,\n",
        "                    verbose=1,\n",
        "                    validation_steps=val_steps,\n",
        "                    steps_per_epoch=train_steps,\n",
        "                     callbacks = [earlyStopping]\n",
        "                   )"
      ],
      "execution_count": null,
      "outputs": [
        {
          "output_type": "stream",
          "text": [
            "Epoch 1/10\n",
            "800/800 [==============================] - 614s 767ms/step - loss: 0.6417 - Acc: 0.7741 - val_loss: 0.3723 - val_Acc: 0.8749\n",
            "Epoch 2/10\n",
            "779/800 [============================>.] - ETA: 15s - loss: 0.3182 - Acc: 0.8920"
          ],
          "name": "stdout"
        }
      ]
    },
    {
      "cell_type": "code",
      "metadata": {
        "id": "YNMNun2kzXoY"
      },
      "source": [
        "def encode_test(text_tensor):\n",
        "    encoded_text = [ voc_set_map[e] for e in list(text_tensor.numpy().decode())]\n",
        "    return (encoded_text)\n",
        "def encode_map_fn_test(text):\n",
        "    # py_func doesn't set the shape of the returned tensors.\n",
        "    encoded_text = tf.py_function(encode_test, \n",
        "                                       inp=[text], \n",
        "                                       Tout=tf.int64)\n",
        "    encoded_text.set_shape([None])\n",
        "\n",
        "    \n",
        "    return (encoded_text)\n",
        "\n",
        "def get_test_data_loader(file,batch_size):\n",
        "    data_set=tf.data.TextLineDataset(file)\n",
        "    data_set=data_set.map(encode_map_fn_test,tf.data.experimental.AUTOTUNE)\n",
        "    data_set=data_set.padded_batch(batch_size)\n",
        "    data_set = data_set.prefetch(buffer_size=tf.data.experimental.AUTOTUNE)\n",
        "    return data_set"
      ],
      "execution_count": 66,
      "outputs": []
    },
    {
      "cell_type": "code",
      "metadata": {
        "id": "LhKgWFs-zXob",
        "outputId": "0110a6cc-4982-4ac5-f2c7-6fb126683f66",
        "colab": {
          "base_uri": "https://localhost:8080/",
          "height": 34
        }
      },
      "source": [
        "test=pd.read_csv(\"/content/UmojaHackTun/test.csv\")\n",
        "test[\"target\"]=0\n",
        "test_dl=get_data_loader_test(\"/content/test.txt\",512,test)\n",
        "test_pred=model.predict(test_dl,verbose=True)"
      ],
      "execution_count": 67,
      "outputs": [
        {
          "output_type": "stream",
          "text": [
            "222/222 [==============================] - 55s 247ms/step\n"
          ],
          "name": "stdout"
        }
      ]
    },
    {
      "cell_type": "code",
      "metadata": {
        "id": "-7IqlNO9zXoe"
      },
      "source": [
        "sub=test[[\"ID\"]].copy()\n",
        "for i in range(number_of_class):\n",
        "    sub[\"target_{}\".format(i)]=test_pred[:,i]"
      ],
      "execution_count": 70,
      "outputs": []
    },
    {
      "cell_type": "code",
      "metadata": {
        "id": "2HtBUfUxWSG6",
        "outputId": "7b1fa62d-ebfb-43e7-8f1c-22c281837c07",
        "colab": {
          "base_uri": "https://localhost:8080/",
          "height": 203
        }
      },
      "source": [
        "sub.head()"
      ],
      "execution_count": 71,
      "outputs": [
        {
          "output_type": "execute_result",
          "data": {
            "text/html": [
              "<div>\n",
              "<style scoped>\n",
              "    .dataframe tbody tr th:only-of-type {\n",
              "        vertical-align: middle;\n",
              "    }\n",
              "\n",
              "    .dataframe tbody tr th {\n",
              "        vertical-align: top;\n",
              "    }\n",
              "\n",
              "    .dataframe thead th {\n",
              "        text-align: right;\n",
              "    }\n",
              "</style>\n",
              "<table border=\"1\" class=\"dataframe\">\n",
              "  <thead>\n",
              "    <tr style=\"text-align: right;\">\n",
              "      <th></th>\n",
              "      <th>ID</th>\n",
              "      <th>target_0</th>\n",
              "      <th>target_1</th>\n",
              "      <th>target_2</th>\n",
              "      <th>target_3</th>\n",
              "      <th>target_4</th>\n",
              "      <th>target_5</th>\n",
              "      <th>target_6</th>\n",
              "      <th>target_7</th>\n",
              "    </tr>\n",
              "  </thead>\n",
              "  <tbody>\n",
              "    <tr>\n",
              "      <th>0</th>\n",
              "      <td>ID_test_0</td>\n",
              "      <td>3.478304e-13</td>\n",
              "      <td>9.449766e-09</td>\n",
              "      <td>1.000000</td>\n",
              "      <td>9.277314e-10</td>\n",
              "      <td>1.682552e-11</td>\n",
              "      <td>2.643210e-12</td>\n",
              "      <td>6.677446e-10</td>\n",
              "      <td>1.261195e-15</td>\n",
              "    </tr>\n",
              "    <tr>\n",
              "      <th>1</th>\n",
              "      <td>ID_test_1</td>\n",
              "      <td>1.921320e-13</td>\n",
              "      <td>3.641341e-09</td>\n",
              "      <td>1.000000</td>\n",
              "      <td>2.703026e-10</td>\n",
              "      <td>1.163852e-12</td>\n",
              "      <td>1.972484e-13</td>\n",
              "      <td>2.554287e-10</td>\n",
              "      <td>2.607571e-16</td>\n",
              "    </tr>\n",
              "    <tr>\n",
              "      <th>2</th>\n",
              "      <td>ID_test_2</td>\n",
              "      <td>2.157307e-11</td>\n",
              "      <td>8.685961e-07</td>\n",
              "      <td>0.999999</td>\n",
              "      <td>8.994353e-08</td>\n",
              "      <td>3.462171e-09</td>\n",
              "      <td>2.789072e-10</td>\n",
              "      <td>5.285719e-09</td>\n",
              "      <td>3.684607e-15</td>\n",
              "    </tr>\n",
              "    <tr>\n",
              "      <th>3</th>\n",
              "      <td>ID_test_3</td>\n",
              "      <td>7.473059e-12</td>\n",
              "      <td>8.954356e-08</td>\n",
              "      <td>1.000000</td>\n",
              "      <td>1.910514e-09</td>\n",
              "      <td>6.747767e-12</td>\n",
              "      <td>2.716855e-12</td>\n",
              "      <td>3.041101e-09</td>\n",
              "      <td>2.417511e-14</td>\n",
              "    </tr>\n",
              "    <tr>\n",
              "      <th>4</th>\n",
              "      <td>ID_test_4</td>\n",
              "      <td>2.245491e-04</td>\n",
              "      <td>9.905613e-01</td>\n",
              "      <td>0.002935</td>\n",
              "      <td>5.049242e-03</td>\n",
              "      <td>1.095221e-06</td>\n",
              "      <td>9.829196e-04</td>\n",
              "      <td>1.325198e-05</td>\n",
              "      <td>2.330250e-04</td>\n",
              "    </tr>\n",
              "  </tbody>\n",
              "</table>\n",
              "</div>"
            ],
            "text/plain": [
              "          ID      target_0  ...      target_6      target_7\n",
              "0  ID_test_0  3.478304e-13  ...  6.677446e-10  1.261195e-15\n",
              "1  ID_test_1  1.921320e-13  ...  2.554287e-10  2.607571e-16\n",
              "2  ID_test_2  2.157307e-11  ...  5.285719e-09  3.684607e-15\n",
              "3  ID_test_3  7.473059e-12  ...  3.041101e-09  2.417511e-14\n",
              "4  ID_test_4  2.245491e-04  ...  1.325198e-05  2.330250e-04\n",
              "\n",
              "[5 rows x 9 columns]"
            ]
          },
          "metadata": {
            "tags": []
          },
          "execution_count": 71
        }
      ]
    },
    {
      "cell_type": "code",
      "metadata": {
        "id": "6SD-VfzJzXog"
      },
      "source": [
        "sub.to_csv(\"Beginingin.csv\",index=False)"
      ],
      "execution_count": 72,
      "outputs": []
    },
    {
      "cell_type": "code",
      "metadata": {
        "id": "rW5061S1zXok",
        "outputId": "37fc15f9-e1df-4ab0-b2b3-144d5b508f9d",
        "colab": {
          "base_uri": "https://localhost:8080/",
          "height": 34
        }
      },
      "source": [
        "sub.shape"
      ],
      "execution_count": 73,
      "outputs": [
        {
          "output_type": "execute_result",
          "data": {
            "text/plain": [
              "(113618, 9)"
            ]
          },
          "metadata": {
            "tags": []
          },
          "execution_count": 73
        }
      ]
    },
    {
      "cell_type": "code",
      "metadata": {
        "id": "fhi-OSHk0lJg"
      },
      "source": [
        ""
      ],
      "execution_count": null,
      "outputs": []
    }
  ]
}